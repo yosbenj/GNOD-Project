{
 "cells": [
  {
   "cell_type": "markdown",
   "id": "e8337ac3",
   "metadata": {},
   "source": [
    "## Import Libraries"
   ]
  },
  {
   "cell_type": "code",
   "execution_count": 1,
   "id": "41294565",
   "metadata": {},
   "outputs": [],
   "source": [
    "import spotipy\n",
    "from spotipy.oauth2 import SpotifyClientCredentials\n",
    "import pandas as pd\n",
    "from random import randint\n",
    "from time import sleep\n",
    "from itertools import islice\n",
    "from pandas import json_normalize\n",
    "import numpy as np\n",
    "import pickle"
   ]
  },
  {
   "cell_type": "markdown",
   "id": "02fbf1da",
   "metadata": {},
   "source": [
    "## Spotify Authentication"
   ]
  },
  {
   "cell_type": "code",
   "execution_count": 2,
   "id": "d9ce6779",
   "metadata": {},
   "outputs": [],
   "source": [
    "# Read secrets from a file to use for Spotify authentication\n",
    "secrets_file = open(\"secrets.txt\",\"r\")"
   ]
  },
  {
   "cell_type": "code",
   "execution_count": 3,
   "id": "2d8c8dff",
   "metadata": {},
   "outputs": [],
   "source": [
    "string = secrets_file.read()\n",
    "#string"
   ]
  },
  {
   "cell_type": "code",
   "execution_count": 19,
   "id": "65a580d7",
   "metadata": {
    "scrolled": true
   },
   "outputs": [],
   "source": [
    "#string.split('\\n')"
   ]
  },
  {
   "cell_type": "code",
   "execution_count": 5,
   "id": "2510be95",
   "metadata": {},
   "outputs": [],
   "source": [
    "# Split the secrets string into a dictionary for easier access\n",
    "secrets_dict={}\n",
    "for line in string.split('\\n'):\n",
    "    if len(line) > 0:\n",
    "        #print(line.split(':'))\n",
    "        secrets_dict[line.split(':')[0]]=line.split(':')[1].strip()\n",
    "        \n",
    "#secrets_dict"
   ]
  },
  {
   "cell_type": "code",
   "execution_count": 6,
   "id": "c4862179",
   "metadata": {},
   "outputs": [],
   "source": [
    "#Initialize SpotiPy with user credentials\n",
    "sp = spotipy.Spotify(auth_manager=SpotifyClientCredentials(client_id=secrets_dict['clientid'],\n",
    "                                                           client_secret=secrets_dict['clientsecret']))"
   ]
  },
  {
   "cell_type": "markdown",
   "id": "7a13b569",
   "metadata": {},
   "source": [
    "## Loading Machine Learning Models"
   ]
  },
  {
   "cell_type": "code",
   "execution_count": 7,
   "id": "b352d649",
   "metadata": {},
   "outputs": [],
   "source": [
    "# Load the KMeans model from a pickle file\n",
    "with open('kmeans.pkl', 'rb') as file:\n",
    "    kmeans = pickle.load(file)\n",
    "\n",
    "# Load the scaler\n",
    "with open('scaler.pkl', 'rb') as file:\n",
    "    scaler = pickle.load(file)"
   ]
  },
  {
   "cell_type": "markdown",
   "id": "c3e9c4ba",
   "metadata": {},
   "source": [
    "### Verifying the KMeans Model"
   ]
  },
  {
   "cell_type": "code",
   "execution_count": 8,
   "id": "be425275",
   "metadata": {},
   "outputs": [
    {
     "name": "stdout",
     "output_type": "stream",
     "text": [
      "(17, 11)\n"
     ]
    }
   ],
   "source": [
    "# Print the shape of the KMeans cluster centers to verify the model is loaded correctly\n",
    "print(kmeans.cluster_centers_.shape)"
   ]
  },
  {
   "cell_type": "markdown",
   "id": "8468dd20",
   "metadata": {},
   "source": [
    "## Loading DataFrames"
   ]
  },
  {
   "cell_type": "code",
   "execution_count": 9,
   "id": "42d25c3c",
   "metadata": {},
   "outputs": [],
   "source": [
    "# # Load the final DataFrame from a CSV file (the one with the clusters)\n",
    "df_final = pd.read_csv('df_final.csv')\n",
    "\n",
    "# # Load the top songs from a CSV file (the one with the hot songs)\n",
    "top_songs = pd.read_csv('topsongs_final.csv')"
   ]
  },
  {
   "cell_type": "code",
   "execution_count": 10,
   "id": "9c438267",
   "metadata": {},
   "outputs": [
    {
     "data": {
      "text/html": [
       "<div>\n",
       "<style scoped>\n",
       "    .dataframe tbody tr th:only-of-type {\n",
       "        vertical-align: middle;\n",
       "    }\n",
       "\n",
       "    .dataframe tbody tr th {\n",
       "        vertical-align: top;\n",
       "    }\n",
       "\n",
       "    .dataframe thead th {\n",
       "        text-align: right;\n",
       "    }\n",
       "</style>\n",
       "<table border=\"1\" class=\"dataframe\">\n",
       "  <thead>\n",
       "    <tr style=\"text-align: right;\">\n",
       "      <th></th>\n",
       "      <th>artists</th>\n",
       "      <th>song</th>\n",
       "      <th>cluster</th>\n",
       "    </tr>\n",
       "  </thead>\n",
       "  <tbody>\n",
       "    <tr>\n",
       "      <th>0</th>\n",
       "      <td>Gen Hoshino</td>\n",
       "      <td>Comedy</td>\n",
       "      <td>5</td>\n",
       "    </tr>\n",
       "    <tr>\n",
       "      <th>1</th>\n",
       "      <td>Ben Woodward</td>\n",
       "      <td>Ghost - Acoustic</td>\n",
       "      <td>16</td>\n",
       "    </tr>\n",
       "    <tr>\n",
       "      <th>2</th>\n",
       "      <td>Ingrid Michaelson;ZAYN</td>\n",
       "      <td>To Begin Again</td>\n",
       "      <td>16</td>\n",
       "    </tr>\n",
       "    <tr>\n",
       "      <th>3</th>\n",
       "      <td>Kina Grannis</td>\n",
       "      <td>Can't Help Falling In Love</td>\n",
       "      <td>3</td>\n",
       "    </tr>\n",
       "    <tr>\n",
       "      <th>4</th>\n",
       "      <td>Chord Overstreet</td>\n",
       "      <td>Hold On</td>\n",
       "      <td>16</td>\n",
       "    </tr>\n",
       "  </tbody>\n",
       "</table>\n",
       "</div>"
      ],
      "text/plain": [
       "                  artists                        song  cluster\n",
       "0             Gen Hoshino                      Comedy        5\n",
       "1            Ben Woodward            Ghost - Acoustic       16\n",
       "2  Ingrid Michaelson;ZAYN              To Begin Again       16\n",
       "3            Kina Grannis  Can't Help Falling In Love        3\n",
       "4        Chord Overstreet                     Hold On       16"
      ]
     },
     "execution_count": 10,
     "metadata": {},
     "output_type": "execute_result"
    }
   ],
   "source": [
    "df_final.head()"
   ]
  },
  {
   "cell_type": "code",
   "execution_count": 11,
   "id": "90ea772f",
   "metadata": {},
   "outputs": [
    {
     "data": {
      "text/html": [
       "<div>\n",
       "<style scoped>\n",
       "    .dataframe tbody tr th:only-of-type {\n",
       "        vertical-align: middle;\n",
       "    }\n",
       "\n",
       "    .dataframe tbody tr th {\n",
       "        vertical-align: top;\n",
       "    }\n",
       "\n",
       "    .dataframe thead th {\n",
       "        text-align: right;\n",
       "    }\n",
       "</style>\n",
       "<table border=\"1\" class=\"dataframe\">\n",
       "  <thead>\n",
       "    <tr style=\"text-align: right;\">\n",
       "      <th></th>\n",
       "      <th>song</th>\n",
       "      <th>artists</th>\n",
       "    </tr>\n",
       "  </thead>\n",
       "  <tbody>\n",
       "    <tr>\n",
       "      <th>0</th>\n",
       "      <td>Cruel Summer</td>\n",
       "      <td>Taylor Swift</td>\n",
       "    </tr>\n",
       "    <tr>\n",
       "      <th>1</th>\n",
       "      <td>Paint The Town Red</td>\n",
       "      <td>Doja Cat</td>\n",
       "    </tr>\n",
       "    <tr>\n",
       "      <th>2</th>\n",
       "      <td>Is It Over Now? (Taylor's Version) [From The V...</td>\n",
       "      <td>Taylor Swift</td>\n",
       "    </tr>\n",
       "    <tr>\n",
       "      <th>3</th>\n",
       "      <td>Snooze</td>\n",
       "      <td>SZA</td>\n",
       "    </tr>\n",
       "    <tr>\n",
       "      <th>4</th>\n",
       "      <td>Standing Next To You</td>\n",
       "      <td>Jung Kook</td>\n",
       "    </tr>\n",
       "  </tbody>\n",
       "</table>\n",
       "</div>"
      ],
      "text/plain": [
       "                                                song       artists\n",
       "0                                       Cruel Summer  Taylor Swift\n",
       "1                                 Paint The Town Red      Doja Cat\n",
       "2  Is It Over Now? (Taylor's Version) [From The V...  Taylor Swift\n",
       "3                                             Snooze           SZA\n",
       "4                               Standing Next To You     Jung Kook"
      ]
     },
     "execution_count": 11,
     "metadata": {},
     "output_type": "execute_result"
    }
   ],
   "source": [
    "top_songs.head()"
   ]
  },
  {
   "cell_type": "markdown",
   "id": "4f3e31cc",
   "metadata": {},
   "source": [
    "## Song Recommender"
   ]
  },
  {
   "cell_type": "markdown",
   "id": "a944a459",
   "metadata": {},
   "source": [
    "### Explanation:\n",
    "\n",
    "#### First of all: The function song_recommender takes a song name as input and then:\n",
    "\n",
    "1. It first checks if the song is in the top_songs DataFrame's Hot 100 list (case-insensitively).\n",
    "2. If the song is in the Hot 100, it recommends another song from that list.\n",
    "3. If the song is not in the Hot 100, the function searches for it on Spotify.\n",
    "4. The user is asked to confirm if the first search result (song and artist) is correct. If not, the search continues with an offset to get the next result.\n",
    "5. Once the correct song is found, its audio features are fetched from Spotify.\n",
    "6. These features are scaled (with the pre-fitted scaler) and used to predict the cluster of the song using a pre-trained KMeans model (assumed as kmeans).\n",
    "7. Finally, the function recommends a random song from the same cluster in the df_final DataFrame."
   ]
  },
  {
   "cell_type": "code",
   "execution_count": 15,
   "id": "5a9c7a8d",
   "metadata": {},
   "outputs": [],
   "source": [
    "def song_recommender(song_name):\n",
    "    \"\"\"\n",
    "    Recommends a song based on the input song name.\n",
    "\n",
    "    This function first checks if the input song is in the PopVortex Hot 100 list. If it is,\n",
    "    another song from the Hot 100 list is recommended. If not, the function searches for the song\n",
    "    on Spotify, confirms the artist with the user, and then recommends a song from the same cluster\n",
    "    based on audio features obtained from Spotify.\n",
    "\n",
    "    Args:\n",
    "    song_name (str): The name of the song input by the user.\n",
    "\n",
    "    Returns:\n",
    "    None: The function prints the recommendation but does not return any value.\n",
    "    \"\"\"\n",
    "    # Check if the song is in the PopVortex Hot 100 (case-insensitive)\n",
    "    if top_songs['song'].str.lower().eq(song_name.lower()).any():\n",
    "        recommendation = top_songs.sample()\n",
    "        print(f\"The song is in the Hot 100! Try this one instead: '{recommendation['song'].iloc[0]}' by {recommendation['artists'].iloc[0]}\")\n",
    "    else:\n",
    "        search_done = False\n",
    "        search_offset = 0\n",
    "\n",
    "        while not search_done:\n",
    "            # Search for the song on Spotify\n",
    "            results = sp.search(q=song_name, type='track', limit=1, offset=search_offset)\n",
    "            if not results['tracks']['items']:\n",
    "                print(\"The song was not found on Spotify.\")\n",
    "                return\n",
    "            \n",
    "            track = results['tracks']['items'][0]\n",
    "            track_id = track['id']\n",
    "            track_name = track['name']\n",
    "            track_artist = track['artists'][0]['name']\n",
    "\n",
    "            # Ask the user for confirmation about the artist\n",
    "            user_confirmation = input(f\"Is this your song: '{track_name}' by {track_artist}? (yes/no): \").lower()\n",
    "            if user_confirmation == 'yes':\n",
    "                search_done = True\n",
    "            else:\n",
    "                search_offset += 1\n",
    "\n",
    "        audio_features = sp.audio_features(track_id)[0]\n",
    "        features = np.array([[audio_features[feature] for feature in [\n",
    "            'danceability', 'energy', 'key', 'loudness', 'mode', 'speechiness',\n",
    "            'acousticness', 'instrumentalness', 'liveness', 'valence', 'tempo'\n",
    "        ]]])\n",
    "\n",
    "        # Scale the features (assuming scaler is previously fitted)\n",
    "        scaled_features = scaler.transform(features)\n",
    "\n",
    "        # Predict the cluster for the song\n",
    "        cluster = kmeans.predict(scaled_features)[0]\n",
    "\n",
    "        # Recommend a song from the same cluster\n",
    "        same_cluster_songs = df_final[df_final['cluster'] == cluster]\n",
    "        if same_cluster_songs.empty:\n",
    "            print(\"No recommendation available from the same cluster.\")\n",
    "            return\n",
    "        \n",
    "        recommended_song = same_cluster_songs.sample()\n",
    "        print(f\"Try this song: '{recommended_song['song'].iloc[0]}' by {recommended_song['artists'].iloc[0]} from cluster {cluster}.\")"
   ]
  },
  {
   "cell_type": "code",
   "execution_count": 17,
   "id": "cb10e693",
   "metadata": {},
   "outputs": [
    {
     "name": "stdout",
     "output_type": "stream",
     "text": [
      "Enter a song you like: Footsteps\n",
      "Is this your song: 'Footsteps in the Dark, Pts. 1 & 2' by The Isley Brothers? (yes/no): no\n",
      "Is this your song: 'Footsteps' by Pop Evil? (yes/no): no\n",
      "Is this your song: 'Footsteps (feat. Musiq Soulchild)' by Kehlani? (yes/no): yes\n",
      "Try this song: 'Real Thing' by Pink Sweat$;Tori Kelly from cluster 16.\n"
     ]
    },
    {
     "name": "stderr",
     "output_type": "stream",
     "text": [
      "/Users/mac/anaconda3/envs/nahuelito/lib/python3.9/site-packages/sklearn/base.py:465: UserWarning: X does not have valid feature names, but StandardScaler was fitted with feature names\n",
      "  warnings.warn(\n",
      "/Users/mac/anaconda3/envs/nahuelito/lib/python3.9/site-packages/sklearn/base.py:465: UserWarning: X does not have valid feature names, but KMeans was fitted with feature names\n",
      "  warnings.warn(\n"
     ]
    }
   ],
   "source": [
    "# Example use of the function\n",
    "song_name_input = input(\"Enter a song you like: \")\n",
    "song_recommender(song_name_input)"
   ]
  },
  {
   "cell_type": "code",
   "execution_count": 18,
   "id": "12bfa736",
   "metadata": {},
   "outputs": [
    {
     "name": "stdout",
     "output_type": "stream",
     "text": [
      "Enter a song you like: Snooze\n",
      "The song is in the Hot 100! Try this one instead: '3D' by Jung Kook & Jack Harlow\n"
     ]
    }
   ],
   "source": [
    "# Example use of the function\n",
    "song_name_input = input(\"Enter a song you like: \")\n",
    "song_recommender(song_name_input)"
   ]
  }
 ],
 "metadata": {
  "kernelspec": {
   "display_name": "Python 3 (ipykernel)",
   "language": "python",
   "name": "python3"
  },
  "language_info": {
   "codemirror_mode": {
    "name": "ipython",
    "version": 3
   },
   "file_extension": ".py",
   "mimetype": "text/x-python",
   "name": "python",
   "nbconvert_exporter": "python",
   "pygments_lexer": "ipython3",
   "version": "3.9.18"
  }
 },
 "nbformat": 4,
 "nbformat_minor": 5
}
