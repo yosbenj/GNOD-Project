{
 "cells": [
  {
   "cell_type": "markdown",
   "id": "b2eb493b",
   "metadata": {},
   "source": [
    "# GNOD PART 2"
   ]
  },
  {
   "cell_type": "markdown",
   "id": "1ab01f9f",
   "metadata": {},
   "source": [
    "The first steps you took yesterday, were to create a list of Top Songs and Artists from scraping web sites.\n",
    "\n",
    "You should have ended with your lists in a data frame containing at least Song Title and Artist.\n",
    "\n",
    "Today you are creating a recommender where the user inputs a song title and check if that song is in the list you created.   If it is,  give a different random song and artist from the list.  If it is not on the list, let the user know that you have no recommendation at this time."
   ]
  },
  {
   "cell_type": "code",
   "execution_count": 1,
   "id": "b0a1bd95",
   "metadata": {},
   "outputs": [],
   "source": [
    "# Import Libraries\n",
    "import pandas as pd\n",
    "import random"
   ]
  },
  {
   "cell_type": "code",
   "execution_count": 2,
   "id": "da9310ae",
   "metadata": {},
   "outputs": [
    {
     "data": {
      "text/html": [
       "<div>\n",
       "<style scoped>\n",
       "    .dataframe tbody tr th:only-of-type {\n",
       "        vertical-align: middle;\n",
       "    }\n",
       "\n",
       "    .dataframe tbody tr th {\n",
       "        vertical-align: top;\n",
       "    }\n",
       "\n",
       "    .dataframe thead th {\n",
       "        text-align: right;\n",
       "    }\n",
       "</style>\n",
       "<table border=\"1\" class=\"dataframe\">\n",
       "  <thead>\n",
       "    <tr style=\"text-align: right;\">\n",
       "      <th></th>\n",
       "      <th>Song</th>\n",
       "      <th>Artist</th>\n",
       "      <th>Position</th>\n",
       "    </tr>\n",
       "  </thead>\n",
       "  <tbody>\n",
       "    <tr>\n",
       "      <th>0</th>\n",
       "      <td>Cruel Summer</td>\n",
       "      <td>Taylor Swift</td>\n",
       "      <td>1</td>\n",
       "    </tr>\n",
       "    <tr>\n",
       "      <th>1</th>\n",
       "      <td>Paint The Town Red</td>\n",
       "      <td>Doja Cat</td>\n",
       "      <td>2</td>\n",
       "    </tr>\n",
       "    <tr>\n",
       "      <th>2</th>\n",
       "      <td>Is It Over Now? (Taylor's Version) [From The V...</td>\n",
       "      <td>Taylor Swift</td>\n",
       "      <td>3</td>\n",
       "    </tr>\n",
       "    <tr>\n",
       "      <th>3</th>\n",
       "      <td>Snooze</td>\n",
       "      <td>SZA</td>\n",
       "      <td>4</td>\n",
       "    </tr>\n",
       "    <tr>\n",
       "      <th>4</th>\n",
       "      <td>Standing Next To You</td>\n",
       "      <td>Jung Kook</td>\n",
       "      <td>5</td>\n",
       "    </tr>\n",
       "    <tr>\n",
       "      <th>...</th>\n",
       "      <td>...</td>\n",
       "      <td>...</td>\n",
       "      <td>...</td>\n",
       "    </tr>\n",
       "    <tr>\n",
       "      <th>195</th>\n",
       "      <td>Those Who Leave Will Not Return</td>\n",
       "      <td>Luminara Stellaris</td>\n",
       "      <td>96</td>\n",
       "    </tr>\n",
       "    <tr>\n",
       "      <th>196</th>\n",
       "      <td>Christmas Canon Rock</td>\n",
       "      <td>Trans-Siberian Orchestra</td>\n",
       "      <td>97</td>\n",
       "    </tr>\n",
       "    <tr>\n",
       "      <th>197</th>\n",
       "      <td>In My Life</td>\n",
       "      <td>The Beatles</td>\n",
       "      <td>98</td>\n",
       "    </tr>\n",
       "    <tr>\n",
       "      <th>198</th>\n",
       "      <td>White Christmas</td>\n",
       "      <td>Bing Crosby</td>\n",
       "      <td>99</td>\n",
       "    </tr>\n",
       "    <tr>\n",
       "      <th>199</th>\n",
       "      <td>What Was I Made For? [From The Motion Picture ...</td>\n",
       "      <td>Billie Eilish</td>\n",
       "      <td>100</td>\n",
       "    </tr>\n",
       "  </tbody>\n",
       "</table>\n",
       "<p>200 rows × 3 columns</p>\n",
       "</div>"
      ],
      "text/plain": [
       "                                                  Song  \\\n",
       "0                                         Cruel Summer   \n",
       "1                                   Paint The Town Red   \n",
       "2    Is It Over Now? (Taylor's Version) [From The V...   \n",
       "3                                               Snooze   \n",
       "4                                 Standing Next To You   \n",
       "..                                                 ...   \n",
       "195                    Those Who Leave Will Not Return   \n",
       "196                               Christmas Canon Rock   \n",
       "197                                         In My Life   \n",
       "198                                    White Christmas   \n",
       "199  What Was I Made For? [From The Motion Picture ...   \n",
       "\n",
       "                       Artist  Position  \n",
       "0                Taylor Swift         1  \n",
       "1                    Doja Cat         2  \n",
       "2                Taylor Swift         3  \n",
       "3                         SZA         4  \n",
       "4                   Jung Kook         5  \n",
       "..                        ...       ...  \n",
       "195        Luminara Stellaris        96  \n",
       "196  Trans-Siberian Orchestra        97  \n",
       "197               The Beatles        98  \n",
       "198               Bing Crosby        99  \n",
       "199             Billie Eilish       100  \n",
       "\n",
       "[200 rows x 3 columns]"
      ]
     },
     "execution_count": 2,
     "metadata": {},
     "output_type": "execute_result"
    }
   ],
   "source": [
    "# Load the data from CSV files\n",
    "hotsongs_df = pd.read_csv('hotsongs_billboard.csv')\n",
    "top100_df = pd.read_csv('top100itunes.csv')\n",
    "\n",
    "# Combine the dataframes\n",
    "top_songs = pd.concat([hotsongs_df, top100_df], ignore_index=True)\n",
    "\n",
    "# Display the combined dataframe\n",
    "top_songs"
   ]
  },
  {
   "cell_type": "code",
   "execution_count": 3,
   "id": "de3e8e4c",
   "metadata": {},
   "outputs": [
    {
     "data": {
      "text/html": [
       "<div>\n",
       "<style scoped>\n",
       "    .dataframe tbody tr th:only-of-type {\n",
       "        vertical-align: middle;\n",
       "    }\n",
       "\n",
       "    .dataframe tbody tr th {\n",
       "        vertical-align: top;\n",
       "    }\n",
       "\n",
       "    .dataframe thead th {\n",
       "        text-align: right;\n",
       "    }\n",
       "</style>\n",
       "<table border=\"1\" class=\"dataframe\">\n",
       "  <thead>\n",
       "    <tr style=\"text-align: right;\">\n",
       "      <th></th>\n",
       "      <th>Song</th>\n",
       "      <th>Artist</th>\n",
       "    </tr>\n",
       "  </thead>\n",
       "  <tbody>\n",
       "    <tr>\n",
       "      <th>0</th>\n",
       "      <td>Cruel Summer</td>\n",
       "      <td>Taylor Swift</td>\n",
       "    </tr>\n",
       "    <tr>\n",
       "      <th>1</th>\n",
       "      <td>Paint The Town Red</td>\n",
       "      <td>Doja Cat</td>\n",
       "    </tr>\n",
       "    <tr>\n",
       "      <th>2</th>\n",
       "      <td>Is It Over Now? (Taylor's Version) [From The V...</td>\n",
       "      <td>Taylor Swift</td>\n",
       "    </tr>\n",
       "    <tr>\n",
       "      <th>3</th>\n",
       "      <td>Snooze</td>\n",
       "      <td>SZA</td>\n",
       "    </tr>\n",
       "    <tr>\n",
       "      <th>4</th>\n",
       "      <td>Standing Next To You</td>\n",
       "      <td>Jung Kook</td>\n",
       "    </tr>\n",
       "    <tr>\n",
       "      <th>...</th>\n",
       "      <td>...</td>\n",
       "      <td>...</td>\n",
       "    </tr>\n",
       "    <tr>\n",
       "      <th>195</th>\n",
       "      <td>Those Who Leave Will Not Return</td>\n",
       "      <td>Luminara Stellaris</td>\n",
       "    </tr>\n",
       "    <tr>\n",
       "      <th>196</th>\n",
       "      <td>Christmas Canon Rock</td>\n",
       "      <td>Trans-Siberian Orchestra</td>\n",
       "    </tr>\n",
       "    <tr>\n",
       "      <th>197</th>\n",
       "      <td>In My Life</td>\n",
       "      <td>The Beatles</td>\n",
       "    </tr>\n",
       "    <tr>\n",
       "      <th>198</th>\n",
       "      <td>White Christmas</td>\n",
       "      <td>Bing Crosby</td>\n",
       "    </tr>\n",
       "    <tr>\n",
       "      <th>199</th>\n",
       "      <td>What Was I Made For? [From The Motion Picture ...</td>\n",
       "      <td>Billie Eilish</td>\n",
       "    </tr>\n",
       "  </tbody>\n",
       "</table>\n",
       "<p>200 rows × 2 columns</p>\n",
       "</div>"
      ],
      "text/plain": [
       "                                                  Song  \\\n",
       "0                                         Cruel Summer   \n",
       "1                                   Paint The Town Red   \n",
       "2    Is It Over Now? (Taylor's Version) [From The V...   \n",
       "3                                               Snooze   \n",
       "4                                 Standing Next To You   \n",
       "..                                                 ...   \n",
       "195                    Those Who Leave Will Not Return   \n",
       "196                               Christmas Canon Rock   \n",
       "197                                         In My Life   \n",
       "198                                    White Christmas   \n",
       "199  What Was I Made For? [From The Motion Picture ...   \n",
       "\n",
       "                       Artist  \n",
       "0                Taylor Swift  \n",
       "1                    Doja Cat  \n",
       "2                Taylor Swift  \n",
       "3                         SZA  \n",
       "4                   Jung Kook  \n",
       "..                        ...  \n",
       "195        Luminara Stellaris  \n",
       "196  Trans-Siberian Orchestra  \n",
       "197               The Beatles  \n",
       "198               Bing Crosby  \n",
       "199             Billie Eilish  \n",
       "\n",
       "[200 rows x 2 columns]"
      ]
     },
     "execution_count": 3,
     "metadata": {},
     "output_type": "execute_result"
    }
   ],
   "source": [
    "# Drop \"Position\" column\n",
    "top_songs = top_songs.drop(columns=['Position'])\n",
    "top_songs"
   ]
  },
  {
   "cell_type": "code",
   "execution_count": 4,
   "id": "1f0e1451",
   "metadata": {},
   "outputs": [],
   "source": [
    "def recommend_song(user_input):\n",
    "    \"\"\"\n",
    "    Recommends a random song from the 'top_songs' DataFrame, excluding the user's input.\n",
    "    \n",
    "    This function takes a song title as input and checks if it exists in the 'top_songs' DataFrame.\n",
    "    If the song is in the list, it will return a recommendation for another random song and artist\n",
    "    from the list. If the song is not in the list, it indicates that no recommendation can be made at this time.\n",
    "    \n",
    "    Parameters:\n",
    "    - user_input (str): The title of the song input by the user.\n",
    "    \n",
    "    Returns:\n",
    "    - str: A recommendation message with a different song title and artist, or a message indicating\n",
    "           no recommendation is available.\n",
    "    \"\"\"\n",
    "    \n",
    "    # Check if the song is in the DataFrame\n",
    "    if user_input in top_songs['Song'].values:\n",
    "        \n",
    "        # Get a random song that is not the user's input\n",
    "        recommendation = top_songs[top_songs['Song'] != user_input].sample()\n",
    "        song_title = recommendation['Song'].iloc[0]\n",
    "        artist_name = recommendation['Artist'].iloc[0]\n",
    "        \n",
    "        return f\"We recommend you listen to '{song_title}' by {artist_name}.\"\n",
    "    \n",
    "    else:        \n",
    "        return \"We have no recommendation at this time.\""
   ]
  },
  {
   "cell_type": "code",
   "execution_count": 5,
   "id": "34e2abfd",
   "metadata": {},
   "outputs": [
    {
     "name": "stdout",
     "output_type": "stream",
     "text": [
      "Please enter a song title: Snooze\n"
     ]
    }
   ],
   "source": [
    "# Ask the user for a song title input\n",
    "user_song_input = input(\"Please enter a song title: \")"
   ]
  },
  {
   "cell_type": "code",
   "execution_count": 6,
   "id": "0f813c6e",
   "metadata": {},
   "outputs": [
    {
     "name": "stdout",
     "output_type": "stream",
     "text": [
      "We recommend you listen to 'Last Night' by Morgan Wallen.\n"
     ]
    }
   ],
   "source": [
    "# Call the recommend_song function with the user's input and print the result\n",
    "recommendation_result = recommend_song(user_song_input)\n",
    "print(recommendation_result)"
   ]
  },
  {
   "cell_type": "code",
   "execution_count": 7,
   "id": "7f2536c3",
   "metadata": {},
   "outputs": [
    {
     "name": "stdout",
     "output_type": "stream",
     "text": [
      "Please enter a song title: Footsteps\n"
     ]
    }
   ],
   "source": [
    "# Ask the user for a song title input\n",
    "user_song_input = input(\"Please enter a song title: \")"
   ]
  },
  {
   "cell_type": "code",
   "execution_count": 8,
   "id": "9f81a2c6",
   "metadata": {},
   "outputs": [
    {
     "name": "stdout",
     "output_type": "stream",
     "text": [
      "We have no recommendation at this time.\n"
     ]
    }
   ],
   "source": [
    "# Call the recommend_song function with the user's input and print the result\n",
    "recommendation_result = recommend_song(user_song_input)\n",
    "print(recommendation_result)"
   ]
  },
  {
   "cell_type": "code",
   "execution_count": 9,
   "id": "d0e9aa32",
   "metadata": {},
   "outputs": [],
   "source": [
    "# Save the df to a csv file\n",
    "top_songs.to_csv('topsongs.csv', index=False)"
   ]
  }
 ],
 "metadata": {
  "kernelspec": {
   "display_name": "Python 3 (ipykernel)",
   "language": "python",
   "name": "python3"
  },
  "language_info": {
   "codemirror_mode": {
    "name": "ipython",
    "version": 3
   },
   "file_extension": ".py",
   "mimetype": "text/x-python",
   "name": "python",
   "nbconvert_exporter": "python",
   "pygments_lexer": "ipython3",
   "version": "3.9.18"
  }
 },
 "nbformat": 4,
 "nbformat_minor": 5
}
